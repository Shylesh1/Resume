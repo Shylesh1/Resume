{
  "cells": [
    {
      "cell_type": "markdown",
      "metadata": {
        "id": "view-in-github",
        "colab_type": "text"
      },
      "source": [
        "<a href=\"https://colab.research.google.com/github/Shylesh1/Resume/blob/main/Shylesh_Erukulla_Exercise.ipynb\" target=\"_parent\"><img src=\"https://colab.research.google.com/assets/colab-badge.svg\" alt=\"Open In Colab\"/></a>"
      ]
    },
    {
      "cell_type": "markdown",
      "metadata": {
        "id": "DymRJbxDBCnf"
      },
      "source": [
        "# **The first In-class-exercise (09/07/2022, 40 points in total)**"
      ]
    },
    {
      "cell_type": "markdown",
      "metadata": {
        "id": "03jb4GZsBkBS"
      },
      "source": [
        "(1) Write a Python program to calculate the length of a string. (4 points)"
      ]
    },
    {
      "cell_type": "code",
      "execution_count": null,
      "metadata": {
        "colab": {
          "base_uri": "https://localhost:8080/"
        },
        "id": "YaGLbSHHB8Ej",
        "outputId": "f5efd99f-ebc0-4239-a9a5-a4b92d081c46"
      },
      "outputs": [
        {
          "output_type": "stream",
          "name": "stdout",
          "text": [
            "Enter a String:Shylesh\n",
            "Length of the given string is  7\n"
          ]
        }
      ],
      "source": [
        "# write your answer here\n",
        "\n",
        "string_input = input(\"Enter a String:\")\n",
        "print(\"Length of the given string is \", len(string_input))"
      ]
    },
    {
      "cell_type": "markdown",
      "metadata": {
        "id": "jJDe71iLB616"
      },
      "source": [
        "(2) Write a Python program to count the number of characters in a string. (4 points)\n",
        "\n",
        "Sample String : 'google.com‘, \n",
        "\n",
        "Expected Result : {'o': 3, 'g': 2, '.': 1, 'e': 1, 'l': 1, 'm': 1, 'c': 1}"
      ]
    },
    {
      "cell_type": "code",
      "execution_count": null,
      "metadata": {
        "colab": {
          "base_uri": "https://localhost:8080/"
        },
        "id": "MtKskTzbCLaU",
        "outputId": "30396ad9-9c2c-4a28-8857-9a734533eabe"
      },
      "outputs": [
        {
          "output_type": "stream",
          "name": "stdout",
          "text": [
            "Enter a String:Shy\n",
            "{'S': 1, 'h': 1, 'y': 1}\n"
          ]
        }
      ],
      "source": [
        "# write your answer here\n",
        "input_string = input(\"Enter a String: \")\n",
        "def count_characters(input_string):\n",
        "    dictionary = {}\n",
        "    for count_char in input_string:\n",
        "        keys = dictionary.keys()\n",
        "        if count_char in keys:\n",
        "            dictionary[count_char] += 1\n",
        "        else:\n",
        "            dictionary[count_char] = 1\n",
        "    return dictionary\n",
        "print(count_characters(input_string))"
      ]
    },
    {
      "cell_type": "markdown",
      "metadata": {
        "id": "55W9AMdXCSpV"
      },
      "source": [
        "(3) Write a Python program to sum all the items in a list. (4 points)"
      ]
    },
    {
      "cell_type": "code",
      "execution_count": null,
      "metadata": {
        "colab": {
          "base_uri": "https://localhost:8080/"
        },
        "id": "I57NXsauCec2",
        "outputId": "138162db-750b-4eb8-a2ed-be8f85624e3e"
      },
      "outputs": [
        {
          "output_type": "stream",
          "name": "stdout",
          "text": [
            "sum of numbers 15\n"
          ]
        }
      ],
      "source": [
        "# write your answer here\n",
        "\n",
        "def list_operation(input_number):\n",
        "    sum_numbers = 0\n",
        "    for x in input_number:\n",
        "        sum_numbers += x\n",
        "    return sum_numbers\n",
        "print(\"sum of numbers\",list_operation([1,2,3,4,5]))"
      ]
    },
    {
      "cell_type": "markdown",
      "metadata": {
        "id": "4ulBZ6yhCi9F"
      },
      "source": [
        "(4) Write a Python program to get a string from a given string where all occurrences of its first char have been changed to '\\$', except the first char itself. (4 points)\n",
        "\n",
        "Sample String : 'restart‘, \n",
        "\n",
        "Expected Result : 'resta\\$t'"
      ]
    },
    {
      "cell_type": "code",
      "execution_count": null,
      "metadata": {
        "colab": {
          "base_uri": "https://localhost:8080/"
        },
        "id": "Fj0XhwbBCw2o",
        "outputId": "05d3d0b4-cdbe-4150-b696-cff5f832a807"
      },
      "outputs": [
        {
          "output_type": "stream",
          "name": "stdout",
          "text": [
            "Enter String:shys\n",
            "shy$\n"
          ]
        }
      ],
      "source": [
        "# write your answer here\n",
        "input_str=input(\"Enter String:\")\n",
        "def change_char(input_str):\n",
        "  char = input_str[0]\n",
        "  input_str = input_str.replace(char, '$')\n",
        "  input_str = char + input_str[1:]\n",
        "\n",
        "  return input_str\n",
        "\n",
        "print(change_char(input_str))"
      ]
    },
    {
      "cell_type": "markdown",
      "metadata": {
        "id": "_bIP7s1MCzue"
      },
      "source": [
        "(5) Write a program with python which could accept two parameter a and b to calculate and output the result of S, where \n",
        "\n",
        "$\\ S=3.14*(1+a/b)^3$ (4 points)\n",
        "\n"
      ]
    },
    {
      "cell_type": "code",
      "execution_count": null,
      "metadata": {
        "colab": {
          "base_uri": "https://localhost:8080/"
        },
        "id": "w79QilHXD3Mg",
        "outputId": "0c80d375-7630-4e24-9258-64ca8de332fe"
      },
      "outputs": [
        {
          "output_type": "stream",
          "name": "stdout",
          "text": [
            "Enter value for a:3\n",
            "Enter value for b:3\n",
            "25.12\n"
          ]
        }
      ],
      "source": [
        "# write your answer here\n",
        "a=int(input(\"Enter value for a:\"))\n",
        "b=int(input(\"Enter value for b:\"))\n",
        "pi = 3.14\n",
        "s = pi * (1+a/b) ** 3\n",
        "print(s)"
      ]
    },
    {
      "cell_type": "markdown",
      "metadata": {
        "id": "xCa2bK9aD4Q3"
      },
      "source": [
        "(6) Write a Python program to concatenate following dictionaries to create a new one. (4 points)\n",
        "\n",
        "Sample Dictionary : dic1={1:10, 2:20}, dic2={3:30, 4:40}, dic3={5:50,6:60}, \n",
        "\n",
        "Expected Result : {1: 10, 2: 20, 3: 30, 4: 40, 5: 50, 6: 60}\n"
      ]
    },
    {
      "cell_type": "code",
      "execution_count": null,
      "metadata": {
        "colab": {
          "base_uri": "https://localhost:8080/"
        },
        "id": "_z4aLqAbEET1",
        "outputId": "6fc1e02b-1253-4ab0-ee82-30abd818f530"
      },
      "outputs": [
        {
          "output_type": "stream",
          "name": "stdout",
          "text": [
            "Expected Result:\n",
            "{5: 50, 6: 60, 1: 10, 2: 20, 3: 30, 4: 40}\n"
          ]
        }
      ],
      "source": [
        "# write your answer here\n",
        "dic1={1:10, 2:20}\n",
        "dic2={3:30, 4:40}\n",
        "dic3={5:50,6:60}\n",
        "dic1.update(dic2)\n",
        "dic3.update(dic1)\n",
        "print(\"Expected Result:\")\n",
        "print(dic3)"
      ]
    },
    {
      "cell_type": "markdown",
      "metadata": {
        "id": "0v48Vqa7FrQh"
      },
      "source": [
        "(7) Write a Python program to check whether an element exists within a tuple. (4 points)"
      ]
    },
    {
      "cell_type": "code",
      "execution_count": null,
      "metadata": {
        "colab": {
          "base_uri": "https://localhost:8080/"
        },
        "id": "7WEmgq-DF2P1",
        "outputId": "51c28728-24cf-49ed-8fe7-cbebfad9fd6e"
      },
      "outputs": [
        {
          "output_type": "stream",
          "name": "stdout",
          "text": [
            "Enter a element:q\n",
            "True\n"
          ]
        }
      ],
      "source": [
        "# write your answer here\n",
        "tuple = (\"a\",\"b\",\"c\",\"d\",\"g\",\"d\",\"r\",\"e\",\"q\")\n",
        "input_element=input(\"Enter a element:\")\n",
        "print(input_element in tuple)\n"
      ]
    },
    {
      "cell_type": "markdown",
      "metadata": {
        "id": "vD5PYLMuGga_"
      },
      "source": [
        "(8) Write a Python program to find maximum and the minimum value in a set. (4 points)"
      ]
    },
    {
      "cell_type": "code",
      "execution_count": null,
      "metadata": {
        "colab": {
          "base_uri": "https://localhost:8080/"
        },
        "id": "t0D5kdJUGjjw",
        "outputId": "7655dae6-d12f-4bd3-fcef-558f6951fbe9"
      },
      "outputs": [
        {
          "output_type": "stream",
          "name": "stdout",
          "text": [
            "77\n",
            "1\n"
          ]
        }
      ],
      "source": [
        "# write your answer here\n",
        "setn = {1,2,6,3,44,77,5}\n",
        "\n",
        "print(max(setn))\n",
        "print(min(setn))"
      ]
    },
    {
      "cell_type": "markdown",
      "metadata": {
        "id": "uHkd-y5VhVWC"
      },
      "source": [
        "(9) Write a Python program to randomly divide the students in this class into six groups for term projects, each group should have at least 4 students but no more than 6 students (including 6). Here is the students list: (4 points)\n",
        "\n",
        "studnet_list = ['ja0964','sa1198','sb1357','vb0218','sc1229','kg0569','kg0470','sg1297','bg0320','fh0141','jl1252','sk1386',\n",
        "           'ak0956','sk1390','sk1458','sk1313','ak0934','vm0377','nm0618','sm1640','sm1907','gn0108','pr0353','dr0609','ms1500','aos0040','ds0814', 'av0659','nv0234','hy0232']"
      ]
    },
    {
      "cell_type": "code",
      "execution_count": null,
      "metadata": {
        "colab": {
          "base_uri": "https://localhost:8080/"
        },
        "id": "3iGbmcOBhTwy",
        "outputId": "fce486e0-1dd2-4576-fb62-1d3bd1d84996"
      },
      "outputs": [
        {
          "output_type": "stream",
          "name": "stdout",
          "text": [
            "['sg1297', 'nv0234', 'ms1500', 'fh0141', 'av0659']\n",
            "['sm1907', 'kg0470', 'gn0108', 'sc1229', 'hy0232']\n",
            "['sk1386', 'sk1390', 'ja0964', 'aos0040', 'kg0470']\n",
            "['nm0618', 'sc1229', 'dr0609', 'sk1458', 'kg0470']\n",
            "['fh0141', 'nm0618', 'sg1297', 'dr0609', 'vb0218']\n",
            "['sk1458', 'hy0232', 'aos0040', 'sa1198', 'sm1907']\n"
          ]
        }
      ],
      "source": [
        "# write your answer here\n",
        "import random\n",
        "random_studnet = ['ja0964','sa1198','sb1357','vb0218','sc1229','kg0569','kg0470','sg1297','bg0320','fh0141','jl1252','sk1386', 'ak0956','sk1390','sk1458','sk1313','ak0934','vm0377','nm0618','sm1640','sm1907','gn0108','pr0353','dr0609','ms1500','aos0040','ds0814', 'av0659','nv0234','hy0232']\n",
        "for i in range(6):\n",
        "    list_students=random.sample(random_studnet,k=5)\n",
        "    print(list_students)"
      ]
    },
    {
      "cell_type": "markdown",
      "metadata": {
        "id": "QtGT_tYIa8hK"
      },
      "source": [
        "(10) Write a Python program to find the duplicate elements in a given array of integers. Return -1 If there are no such elements. (4 points)"
      ]
    },
    {
      "cell_type": "code",
      "execution_count": null,
      "metadata": {
        "colab": {
          "base_uri": "https://localhost:8080/"
        },
        "id": "iY0jRMfZa8hK",
        "outputId": "dbb8c6d9-6143-473a-b35a-e8537704db27"
      },
      "outputs": [
        {
          "output_type": "stream",
          "name": "stdout",
          "text": [
            "-1\n",
            "2\n"
          ]
        }
      ],
      "source": [
        "\n",
        "# write your answer here\n",
        "def duplicate_function(number):\n",
        "    num_set = set()\n",
        "    return_value = -1\n",
        "\n",
        "    for i in range(len(number)):\n",
        "\n",
        "        if number[i] in num_set:\n",
        "            return number[i]\n",
        "        else:\n",
        "            num_set.add(number[i])\n",
        "    return return_value\n",
        "print(duplicate_function([1,2,3,4,5]))\n",
        "print(duplicate_function([2,2,3,4,5]))"
      ]
    },
    {
      "cell_type": "markdown",
      "metadata": {
        "id": "td9UEdxYa8hL"
      },
      "source": [
        "(11) Write a Python program to select all the Sundays of a specified year. (4 extra points)"
      ]
    },
    {
      "cell_type": "code",
      "execution_count": null,
      "metadata": {
        "colab": {
          "base_uri": "https://localhost:8080/"
        },
        "id": "cN-YErI5a8hL",
        "outputId": "f63d40bb-e1b1-4c2a-cbff-77557b79ec18"
      },
      "outputs": [
        {
          "output_type": "stream",
          "name": "stdout",
          "text": [
            "2022-01-02\n",
            "2022-01-09\n",
            "2022-01-16\n",
            "2022-01-23\n",
            "2022-01-30\n",
            "2022-02-06\n",
            "2022-02-13\n",
            "2022-02-20\n",
            "2022-02-27\n",
            "2022-03-06\n",
            "2022-03-13\n",
            "2022-03-20\n",
            "2022-03-27\n",
            "2022-04-03\n",
            "2022-04-10\n",
            "2022-04-17\n",
            "2022-04-24\n",
            "2022-05-01\n",
            "2022-05-08\n",
            "2022-05-15\n",
            "2022-05-22\n",
            "2022-05-29\n",
            "2022-06-05\n",
            "2022-06-12\n",
            "2022-06-19\n",
            "2022-06-26\n",
            "2022-07-03\n",
            "2022-07-10\n",
            "2022-07-17\n",
            "2022-07-24\n",
            "2022-07-31\n",
            "2022-08-07\n",
            "2022-08-14\n",
            "2022-08-21\n",
            "2022-08-28\n",
            "2022-09-04\n",
            "2022-09-11\n",
            "2022-09-18\n",
            "2022-09-25\n",
            "2022-10-02\n",
            "2022-10-09\n",
            "2022-10-16\n",
            "2022-10-23\n",
            "2022-10-30\n",
            "2022-11-06\n",
            "2022-11-13\n",
            "2022-11-20\n",
            "2022-11-27\n",
            "2022-12-04\n",
            "2022-12-11\n",
            "2022-12-18\n",
            "2022-12-25\n"
          ]
        }
      ],
      "source": [
        "# write your answer here\n",
        "from datetime import date, timedelta\n",
        "\n",
        "def sunday_function(spec_year):\n",
        "       dt = date(spec_year, 1, 1)      \n",
        "       dt += timedelta(days = 6 - dt.weekday()) \n",
        "        \n",
        "       while dt.year == spec_year:\n",
        "          yield dt\n",
        "          dt += timedelta(days = 7)\n",
        "          \n",
        "for s in sunday_function(2022):\n",
        "   print(s)\n",
        "   "
      ]
    },
    {
      "cell_type": "code",
      "source": [],
      "metadata": {
        "id": "ia0YkXLvIzZ6"
      },
      "execution_count": null,
      "outputs": []
    }
  ],
  "metadata": {
    "colab": {
      "collapsed_sections": [],
      "provenance": [],
      "include_colab_link": true
    },
    "kernelspec": {
      "display_name": "Python 3 (ipykernel)",
      "language": "python",
      "name": "python3"
    },
    "language_info": {
      "codemirror_mode": {
        "name": "ipython",
        "version": 3
      },
      "file_extension": ".py",
      "mimetype": "text/x-python",
      "name": "python",
      "nbconvert_exporter": "python",
      "pygments_lexer": "ipython3",
      "version": "3.9.12"
    }
  },
  "nbformat": 4,
  "nbformat_minor": 0
}